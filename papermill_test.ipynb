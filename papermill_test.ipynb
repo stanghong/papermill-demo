{
 "cells": [
  {
   "cell_type": "code",
   "execution_count": 63,
   "id": "693cc104",
   "metadata": {},
   "outputs": [],
   "source": [
    "# !pip install papermill\n",
    "import seaborn as sns\n",
    "iris=sns.load_dataset('iris')\n",
    "\n",
    "#shuffle the data so that three species can be found in all subsets\n",
    "iris = iris.sample(frac=1).reset_index(drop=True)\n",
    "\n",
    "iris[:50].to_csv('iris1.csv')\n",
    "iris[50:100].to_csv('iris2.csv')\n",
    "iris[100:].to_csv('iris3.csv')"
   ]
  },
  {
   "cell_type": "code",
   "execution_count": 57,
   "id": "2e914b8e",
   "metadata": {},
   "outputs": [],
   "source": [
    "import papermill as pm"
   ]
  },
  {
   "cell_type": "code",
   "execution_count": 58,
   "id": "a579360b",
   "metadata": {
    "scrolled": true
   },
   "outputs": [
    {
     "data": {
      "text/plain": [
       "{'train_file': {'name': 'train_file',\n",
       "  'inferred_type_name': 'None',\n",
       "  'default': \"''\",\n",
       "  'help': ''},\n",
       " 'test_file': {'name': 'test_file',\n",
       "  'inferred_type_name': 'None',\n",
       "  'default': \"''\",\n",
       "  'help': ''}}"
      ]
     },
     "execution_count": 58,
     "metadata": {},
     "output_type": "execute_result"
    }
   ],
   "source": [
    "pm.inspect_notebook('template.ipynb')"
   ]
  },
  {
   "cell_type": "code",
   "execution_count": 59,
   "id": "13c832c1",
   "metadata": {},
   "outputs": [
    {
     "data": {
      "application/vnd.jupyter.widget-view+json": {
       "model_id": "d5a2b369ba29427ebe0243552c4140f2",
       "version_major": 2,
       "version_minor": 0
      },
      "text/plain": [
       "Executing:   0%|          | 0/14 [00:00<?, ?cell/s]"
      ]
     },
     "metadata": {},
     "output_type": "display_data"
    },
    {
     "data": {
      "application/vnd.jupyter.widget-view+json": {
       "model_id": "da497df9d5fb4ed7bec4164ee48b0caf",
       "version_major": 2,
       "version_minor": 0
      },
      "text/plain": [
       "Executing:   0%|          | 0/14 [00:00<?, ?cell/s]"
      ]
     },
     "metadata": {},
     "output_type": "display_data"
    }
   ],
   "source": [
    "test_files=['iris2.csv','iris3.csv']\n",
    "\n",
    "for test_file in test_files:\n",
    "    parameters = {'train_file':  'iris1.csv',\n",
    "                 'test_file': test_file}\n",
    "\n",
    "    # Define the input parameters\n",
    "\n",
    "    pm.execute_notebook(\n",
    "        \"template.ipynb\", \n",
    "        f\"output_{test_file}.ipynb\",\n",
    "        parameters=parameters\n",
    "    )"
   ]
  },
  {
   "cell_type": "code",
   "execution_count": 60,
   "id": "56f0252e",
   "metadata": {},
   "outputs": [
    {
     "data": {
      "text/html": [
       "<div>\n",
       "<style scoped>\n",
       "    .dataframe tbody tr th:only-of-type {\n",
       "        vertical-align: middle;\n",
       "    }\n",
       "\n",
       "    .dataframe tbody tr th {\n",
       "        vertical-align: top;\n",
       "    }\n",
       "\n",
       "    .dataframe thead th {\n",
       "        text-align: right;\n",
       "    }\n",
       "</style>\n",
       "<table border=\"1\" class=\"dataframe\">\n",
       "  <thead>\n",
       "    <tr style=\"text-align: right;\">\n",
       "      <th></th>\n",
       "      <th>Directory</th>\n",
       "      <th>Log</th>\n",
       "    </tr>\n",
       "  </thead>\n",
       "  <tbody>\n",
       "    <tr>\n",
       "      <th>INFO</th>\n",
       "      <td>root</td>\n",
       "      <td>training set accuracy 0.96</td>\n",
       "    </tr>\n",
       "    <tr>\n",
       "      <th>INFO</th>\n",
       "      <td>root</td>\n",
       "      <td>test set iris2.csv has accuracy0.92</td>\n",
       "    </tr>\n",
       "    <tr>\n",
       "      <th>INFO</th>\n",
       "      <td>root</td>\n",
       "      <td>training set accuracy 0.96</td>\n",
       "    </tr>\n",
       "    <tr>\n",
       "      <th>INFO</th>\n",
       "      <td>root</td>\n",
       "      <td>test set iris3.csv has accuracy0.96</td>\n",
       "    </tr>\n",
       "  </tbody>\n",
       "</table>\n",
       "</div>"
      ],
      "text/plain": [
       "     Directory                                  Log\n",
       "INFO      root           training set accuracy 0.96\n",
       "INFO      root  test set iris2.csv has accuracy0.92\n",
       "INFO      root           training set accuracy 0.96\n",
       "INFO      root  test set iris3.csv has accuracy0.96"
      ]
     },
     "execution_count": 60,
     "metadata": {},
     "output_type": "execute_result"
    }
   ],
   "source": [
    "import pandas as pd\n",
    "\n",
    "df = pd.read_csv('model_output.log', sep=':', header=None, names=['Directory', 'Log'])\n",
    "\n",
    "df.head()"
   ]
  },
  {
   "cell_type": "code",
   "execution_count": null,
   "id": "1c4d4790",
   "metadata": {},
   "outputs": [],
   "source": []
  }
 ],
 "metadata": {
  "kernelspec": {
   "display_name": "Python 3 (ipykernel)",
   "language": "python",
   "name": "python3"
  },
  "language_info": {
   "codemirror_mode": {
    "name": "ipython",
    "version": 3
   },
   "file_extension": ".py",
   "mimetype": "text/x-python",
   "name": "python",
   "nbconvert_exporter": "python",
   "pygments_lexer": "ipython3",
   "version": "3.9.7"
  }
 },
 "nbformat": 4,
 "nbformat_minor": 5
}
