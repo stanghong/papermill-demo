{
 "cells": [
  {
   "cell_type": "markdown",
   "id": "314713b1",
   "metadata": {},
   "source": [
    "#### generating data "
   ]
  },
  {
   "cell_type": "code",
   "execution_count": 17,
   "id": "cf221406",
   "metadata": {},
   "outputs": [],
   "source": [
    "import numpy as np\n",
    "import pandas as pd"
   ]
  },
  {
   "cell_type": "code",
   "execution_count": 29,
   "id": "efb41e58",
   "metadata": {
    "tags": [
     "parameters"
    ]
   },
   "outputs": [],
   "source": [
    "#parameters\n",
    "n_neighbors=5\n",
    "weights='uniform'"
   ]
  },
  {
   "cell_type": "code",
   "execution_count": 30,
   "id": "355c6bb3",
   "metadata": {},
   "outputs": [],
   "source": [
    "train_file='iris1.csv'\n",
    "test_file='iris2.csv'\n",
    "from  sklearn import  datasets\n",
    "iris=pd.read_csv(train_file)\n",
    "input_features=['sepal_length', 'sepal_width', 'petal_length', 'petal_width']"
   ]
  },
  {
   "cell_type": "code",
   "execution_count": 31,
   "id": "dee12871",
   "metadata": {},
   "outputs": [],
   "source": [
    "Xtrain=iris[input_features]\n",
    "ytrain=iris['species']"
   ]
  },
  {
   "cell_type": "code",
   "execution_count": 32,
   "id": "3cc7aad4",
   "metadata": {},
   "outputs": [],
   "source": [
    "test=pd.read_csv(test_file)\n",
    "Xtest=test[input_features]\n",
    "ytest=test['species']"
   ]
  },
  {
   "cell_type": "code",
   "execution_count": 35,
   "id": "487a48e6",
   "metadata": {},
   "outputs": [],
   "source": [
    "from sklearn import neighbors\n",
    "classifier=neighbors.KNeighborsClassifier(\n",
    " n_neighbors=n_neighbors,\n",
    " weights=weights,\n",
    ")"
   ]
  },
  {
   "cell_type": "code",
   "execution_count": 36,
   "id": "1a81ca6e",
   "metadata": {},
   "outputs": [
    {
     "data": {
      "text/plain": [
       "KNeighborsClassifier()"
      ]
     },
     "execution_count": 36,
     "metadata": {},
     "output_type": "execute_result"
    }
   ],
   "source": [
    "classifier.fit(Xtrain,ytrain)"
   ]
  },
  {
   "cell_type": "code",
   "execution_count": 37,
   "id": "f0bdec76",
   "metadata": {},
   "outputs": [],
   "source": [
    "ytrain_hat=classifier.predict(Xtrain)\n",
    "ytest_hat=classifier.predict(Xtest)"
   ]
  },
  {
   "cell_type": "code",
   "execution_count": 38,
   "id": "d5963272",
   "metadata": {},
   "outputs": [
    {
     "name": "stdout",
     "output_type": "stream",
     "text": [
      "0.94\n",
      "0.94\n"
     ]
    }
   ],
   "source": [
    "from sklearn.metrics import accuracy_score\n",
    "print(accuracy_score(ytrain,ytrain_hat))\n",
    "print(accuracy_score(ytest,ytest_hat))"
   ]
  },
  {
   "cell_type": "code",
   "execution_count": 39,
   "id": "1db005ba",
   "metadata": {},
   "outputs": [],
   "source": [
    "import logging\n",
    "\n",
    "# Set up logging\n",
    "logging.basicConfig(filename='model_output.log', level=logging.INFO)\n",
    "\n",
    "output = f'training set accuracy {accuracy_score(ytrain,ytrain_hat)}'\n",
    "logging.info(output)\n",
    "output= f'test set n_neighbors={n_neighbors} \\\n",
    "weights={weights}has accuracy{accuracy_score(ytest,ytest_hat)}'\n",
    "logging.info(output)"
   ]
  },
  {
   "cell_type": "code",
   "execution_count": null,
   "id": "23218d02",
   "metadata": {},
   "outputs": [],
   "source": []
  }
 ],
 "metadata": {
  "kernelspec": {
   "display_name": "Python 3 (ipykernel)",
   "language": "python",
   "name": "python3"
  },
  "language_info": {
   "codemirror_mode": {
    "name": "ipython",
    "version": 3
   },
   "file_extension": ".py",
   "mimetype": "text/x-python",
   "name": "python",
   "nbconvert_exporter": "python",
   "pygments_lexer": "ipython3",
   "version": "3.9.7"
  }
 },
 "nbformat": 4,
 "nbformat_minor": 5
}
