{
 "cells": [
  {
   "cell_type": "code",
   "execution_count": 72,
   "id": "693cc104",
   "metadata": {},
   "outputs": [],
   "source": [
    "# !pip install papermill\n",
    "import seaborn as sns\n",
    "iris=sns.load_dataset('iris')\n",
    "\n",
    "#shuffle the data so that three species can be found in all subsets\n",
    "iris = iris.sample(frac=1).reset_index(drop=True)\n",
    "\n",
    "iris[:50].to_csv('iris1.csv')\n",
    "iris[50:100].to_csv('iris2.csv')\n",
    "iris[100:].to_csv('iris3.csv')"
   ]
  },
  {
   "cell_type": "code",
   "execution_count": 73,
   "id": "2e914b8e",
   "metadata": {},
   "outputs": [],
   "source": [
    "import papermill as pm"
   ]
  },
  {
   "cell_type": "code",
   "execution_count": 78,
   "id": "a579360b",
   "metadata": {
    "scrolled": true
   },
   "outputs": [
    {
     "data": {
      "text/plain": [
       "{'n_neighbors': {'name': 'n_neighbors',\n",
       "  'inferred_type_name': 'None',\n",
       "  'default': '5',\n",
       "  'help': ''},\n",
       " 'weights': {'name': 'weights',\n",
       "  'inferred_type_name': 'None',\n",
       "  'default': \"'uniform'\",\n",
       "  'help': ''}}"
      ]
     },
     "execution_count": 78,
     "metadata": {},
     "output_type": "execute_result"
    }
   ],
   "source": [
    "pm.inspect_notebook('template_hpt.ipynb')"
   ]
  },
  {
   "cell_type": "code",
   "execution_count": 81,
   "id": "13c832c1",
   "metadata": {},
   "outputs": [
    {
     "data": {
      "application/vnd.jupyter.widget-view+json": {
       "model_id": "58842116cfdf4e948a54b9c4c3708c62",
       "version_major": 2,
       "version_minor": 0
      },
      "text/plain": [
       "Executing:   0%|          | 0/13 [00:00<?, ?cell/s]"
      ]
     },
     "metadata": {},
     "output_type": "display_data"
    },
    {
     "data": {
      "application/vnd.jupyter.widget-view+json": {
       "model_id": "0158710407054c99914aab643dc42303",
       "version_major": 2,
       "version_minor": 0
      },
      "text/plain": [
       "Executing:   0%|          | 0/13 [00:00<?, ?cell/s]"
      ]
     },
     "metadata": {},
     "output_type": "display_data"
    },
    {
     "data": {
      "application/vnd.jupyter.widget-view+json": {
       "model_id": "30cafdf6a92948aa804d78a81ed52b2f",
       "version_major": 2,
       "version_minor": 0
      },
      "text/plain": [
       "Executing:   0%|          | 0/13 [00:00<?, ?cell/s]"
      ]
     },
     "metadata": {},
     "output_type": "display_data"
    },
    {
     "data": {
      "application/vnd.jupyter.widget-view+json": {
       "model_id": "98ca8b087f4d434d8808bc9338128b8d",
       "version_major": 2,
       "version_minor": 0
      },
      "text/plain": [
       "Executing:   0%|          | 0/13 [00:00<?, ?cell/s]"
      ]
     },
     "metadata": {},
     "output_type": "display_data"
    },
    {
     "data": {
      "application/vnd.jupyter.widget-view+json": {
       "model_id": "b9c9973829f24b37a3b5c681cfcc99b0",
       "version_major": 2,
       "version_minor": 0
      },
      "text/plain": [
       "Executing:   0%|          | 0/13 [00:00<?, ?cell/s]"
      ]
     },
     "metadata": {},
     "output_type": "display_data"
    },
    {
     "data": {
      "application/vnd.jupyter.widget-view+json": {
       "model_id": "a07c8242a11d4a5a9316ddf9c017e0bc",
       "version_major": 2,
       "version_minor": 0
      },
      "text/plain": [
       "Executing:   0%|          | 0/13 [00:00<?, ?cell/s]"
      ]
     },
     "metadata": {},
     "output_type": "display_data"
    }
   ],
   "source": [
    "n_neighbors=[3,5,7]\n",
    "weights=['uniform', 'distance']\n",
    "\n",
    "for n_neighbor in n_neighbors:\n",
    "    for weight in weights:\n",
    "    \n",
    "        parameters = {'n_neighbors': n_neighbor,\n",
    "                      'weights':weight\n",
    "                     }\n",
    "\n",
    "        # Define the input parameters\n",
    "\n",
    "        pm.execute_notebook(\n",
    "            \"template_hpt.ipynb\", \n",
    "            f\"output_n_neighbors_{n_neighbor} \\\n",
    "weights_{weight}.ipynb\",\n",
    "            parameters=parameters\n",
    "        )"
   ]
  },
  {
   "cell_type": "code",
   "execution_count": 76,
   "id": "56f0252e",
   "metadata": {},
   "outputs": [
    {
     "data": {
      "text/html": [
       "<div>\n",
       "<style scoped>\n",
       "    .dataframe tbody tr th:only-of-type {\n",
       "        vertical-align: middle;\n",
       "    }\n",
       "\n",
       "    .dataframe tbody tr th {\n",
       "        vertical-align: top;\n",
       "    }\n",
       "\n",
       "    .dataframe thead th {\n",
       "        text-align: right;\n",
       "    }\n",
       "</style>\n",
       "<table border=\"1\" class=\"dataframe\">\n",
       "  <thead>\n",
       "    <tr style=\"text-align: right;\">\n",
       "      <th></th>\n",
       "      <th>Directory</th>\n",
       "      <th>Log</th>\n",
       "    </tr>\n",
       "  </thead>\n",
       "  <tbody>\n",
       "    <tr>\n",
       "      <th>INFO</th>\n",
       "      <td>root</td>\n",
       "      <td>training set accuracy 0.96</td>\n",
       "    </tr>\n",
       "    <tr>\n",
       "      <th>INFO</th>\n",
       "      <td>root</td>\n",
       "      <td>test set iris2.csv has accuracy0.92</td>\n",
       "    </tr>\n",
       "    <tr>\n",
       "      <th>INFO</th>\n",
       "      <td>root</td>\n",
       "      <td>training set accuracy 0.96</td>\n",
       "    </tr>\n",
       "    <tr>\n",
       "      <th>INFO</th>\n",
       "      <td>root</td>\n",
       "      <td>test set iris3.csv has accuracy0.96</td>\n",
       "    </tr>\n",
       "    <tr>\n",
       "      <th>INFO</th>\n",
       "      <td>root</td>\n",
       "      <td>training set accuracy 0.98</td>\n",
       "    </tr>\n",
       "  </tbody>\n",
       "</table>\n",
       "</div>"
      ],
      "text/plain": [
       "     Directory                                  Log\n",
       "INFO      root           training set accuracy 0.96\n",
       "INFO      root  test set iris2.csv has accuracy0.92\n",
       "INFO      root           training set accuracy 0.96\n",
       "INFO      root  test set iris3.csv has accuracy0.96\n",
       "INFO      root           training set accuracy 0.98"
      ]
     },
     "execution_count": 76,
     "metadata": {},
     "output_type": "execute_result"
    }
   ],
   "source": [
    "import pandas as pd\n",
    "\n",
    "df = pd.read_csv('model_output.log', sep=':', header=None, names=['Directory', 'Log'])\n",
    "\n",
    "df.head()"
   ]
  },
  {
   "cell_type": "code",
   "execution_count": null,
   "id": "1c4d4790",
   "metadata": {},
   "outputs": [],
   "source": []
  }
 ],
 "metadata": {
  "kernelspec": {
   "display_name": "Python 3 (ipykernel)",
   "language": "python",
   "name": "python3"
  },
  "language_info": {
   "codemirror_mode": {
    "name": "ipython",
    "version": 3
   },
   "file_extension": ".py",
   "mimetype": "text/x-python",
   "name": "python",
   "nbconvert_exporter": "python",
   "pygments_lexer": "ipython3",
   "version": "3.9.7"
  }
 },
 "nbformat": 4,
 "nbformat_minor": 5
}
